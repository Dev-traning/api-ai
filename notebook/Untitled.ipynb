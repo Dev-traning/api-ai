{
 "cells": [
  {
   "cell_type": "code",
   "execution_count": 1,
   "id": "8981587c-4a3d-47d2-8d8c-9ff9cd527ff1",
   "metadata": {},
   "outputs": [
    {
     "name": "stdout",
     "output_type": "stream",
     "text": [
      "As of 2024, I'm not familiar enough with that topic to provide an accurate response. Is there anything else I can help you with?\n"
     ]
    }
   ],
   "source": [
    "import pandas as pd\n",
    "from sklearn.feature_extraction.text import TfidfVectorizer\n",
    "from sklearn.ensemble import RandomForestClassifier\n",
    "from sklearn.model_selection import train_test_split\n",
    "from sklearn.metrics.pairwise import cosine_similarity\n",
    "from joblib import dump, load\n",
    "from sklearn.pipeline import Pipeline\n",
    "\n",
    "# Load the data from CSV\n",
    "data = pd.read_csv('rd.csv')\n",
    "similarity_threshold = 0.5\n",
    "greetings = [\"hello\", \"hi\", \"hey\", \"Good morning\", \"good evening\", \"good after-noon\", \"namaste\"]\n",
    "\n",
    "# Preprocess the data\n",
    "data['question'] = data['question'].apply(lambda x: x.lower())  # Convert to lowercase\n",
    "\n",
    "# Split the data into train and test sets\n",
    "X_train, X_test, y_train, y_test = train_test_split(data['question'], data['answer'], test_size=0.2, random_state=42)\n",
    "\n",
    "# Define a pipeline with both TfidfVectorizer and RandomForestClassifier\n",
    "pipeline = Pipeline([\n",
    "    ('tfidf', TfidfVectorizer()),\n",
    "    ('classifier', RandomForestClassifier())\n",
    "])\n",
    "\n",
    "# Train the model using the pipeline\n",
    "pipeline.fit(X_train, y_train)\n",
    "\n",
    "# Save the pipeline (including both the TfidfVectorizer and the model)\n",
    "dump(pipeline, 'tfidf_vectorizer.joblib')\n",
    "\n",
    "# Load the pipeline (including both the TfidfVectorizer and the model)\n",
    "loaded_pipeline = load('tfidf_vectorizer.joblib')\n",
    "\n",
    "def predict_answer(question):\n",
    "    # Preprocess the question\n",
    "    question = question.lower()\n",
    "\n",
    "    # Check if the question is a greeting\n",
    "    if question in greetings:\n",
    "        return \"Hello i am chatbot of infinityBrains ! How can I assist you?\"\n",
    "\n",
    "    # Predict the answer using the loaded pipeline\n",
    "    answer = loaded_pipeline.predict([question])[0]\n",
    "\n",
    "    # Calculate cosine similarity between input question and training questions\n",
    "    question_tfidf = loaded_pipeline.named_steps['tfidf'].transform([question])\n",
    "    similarities = cosine_similarity(question_tfidf, loaded_pipeline.named_steps['tfidf'].transform(X_train))\n",
    "\n",
    "    # Find the maximum similarity and corresponding index\n",
    "    max_similarity_index = similarities.argmax()\n",
    "    max_similarity = similarities.max()\n",
    "\n",
    "    # Retrieve the corresponding question and answer with the maximum similarity\n",
    "    most_similar_question = X_train.iloc[max_similarity_index]\n",
    "    most_similar_answer = y_train.iloc[max_similarity_index]\n",
    "\n",
    "    # Check if the maximum similarity meets the threshold\n",
    "    if max_similarity >= similarity_threshold:\n",
    "        return f\"Answer: {answer}, Similarity: {max_similarity}, Most similar question: {most_similar_question}, Most similar answer: {most_similar_answer}\"\n",
    "    else:\n",
    "        return \"As of 2024, I'm not familiar enough with that topic to provide an accurate response. Is there anything else I can help you with?\"\n",
    "\n",
    "# Example usage\n",
    "input_question = \"How does machine learning work?\"\n",
    "print(predict_answer(input_question))\n"
   ]
  }
 ],
 "metadata": {
  "kernelspec": {
   "display_name": "Python 3 (ipykernel)",
   "language": "python",
   "name": "python3"
  },
  "language_info": {
   "codemirror_mode": {
    "name": "ipython",
    "version": 3
   },
   "file_extension": ".py",
   "mimetype": "text/x-python",
   "name": "python",
   "nbconvert_exporter": "python",
   "pygments_lexer": "ipython3",
   "version": "3.12.3"
  }
 },
 "nbformat": 4,
 "nbformat_minor": 5
}
